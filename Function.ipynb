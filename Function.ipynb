{
  "nbformat": 4,
  "nbformat_minor": 0,
  "metadata": {
    "colab": {
      "name": "Function.ipynb",
      "provenance": [],
      "collapsed_sections": [],
      "authorship_tag": "ABX9TyMxpPHj6lfj70SoPWUyWdEE",
      "include_colab_link": true
    },
    "kernelspec": {
      "name": "python3",
      "display_name": "Python 3"
    },
    "language_info": {
      "name": "python"
    }
  },
  "cells": [
    {
      "cell_type": "markdown",
      "metadata": {
        "id": "view-in-github",
        "colab_type": "text"
      },
      "source": [
        "<a href=\"https://colab.research.google.com/github/SusiWahyuningrum/PSDS-Kelas-Mahir-Pejuang-Data-3.0/blob/main/Function.ipynb\" target=\"_parent\"><img src=\"https://colab.research.google.com/assets/colab-badge.svg\" alt=\"Open In Colab\"/></a>"
      ]
    },
    {
      "cell_type": "markdown",
      "metadata": {
        "id": "sGXXH8vy_lcE"
      },
      "source": [
        "#**Pembuka**\n",
        "\n",
        "Assalamu'alaikum warahmatullahi wabarakatuh. Puji syukur kehadirat Allah Subhana Wata'ala atas limpahan Rahmat dan HidayahNya kepada kita semua. Sholawat serta salam senantiasa tercurah limpahkan kepada baginda Muhammad Rasulullah Salallahualaihiwassalam.\n",
        "\n",
        "Halo para **Pejuang Data**. Selamat berjumlah di pertemuan pertama Program Training **Algoritma Machine Learning** Kelas Mahir.\n",
        "\n",
        "Pada pertemuan ini kamu akan belajar:\n",
        "\n",
        "\n",
        "*   Fungsi Pada Python\n",
        "*   Keyword & Argument\n",
        "*   Membuat Fungsi Pada Python\n",
        "*   Positional Argument & Keyword\n",
        "*   Contoh User Defined Function\n",
        "*   Latihan\n",
        "\n"
      ]
    },
    {
      "cell_type": "markdown",
      "metadata": {
        "id": "DPMah8ouCTbY"
      },
      "source": [
        "##**Function**\n",
        "\n",
        "Function adalah sebuah blok statemen yang hanya akan dijalankan saat ia dipanggil.!"
      ]
    },
    {
      "cell_type": "code",
      "metadata": {
        "id": "JQnwB9ZSwL8X",
        "colab": {
          "base_uri": "https://localhost:8080/"
        },
        "outputId": "1218f0c8-7a8a-4fff-9517-1971f03a580b"
      },
      "source": [
        "genap = [2,4,6,8,10]\n",
        "\n",
        "len(genap)"
      ],
      "execution_count": null,
      "outputs": [
        {
          "output_type": "execute_result",
          "data": {
            "text/plain": [
              "5"
            ]
          },
          "metadata": {},
          "execution_count": 1
        }
      ]
    },
    {
      "cell_type": "code",
      "metadata": {
        "colab": {
          "base_uri": "https://localhost:8080/"
        },
        "id": "NNrx_B4eE2MR",
        "outputId": "29af1b9f-eee7-4183-b2ed-d26496ddaca3"
      },
      "source": [
        "print('Assalamualaikum Dunia')"
      ],
      "execution_count": null,
      "outputs": [
        {
          "output_type": "stream",
          "name": "stdout",
          "text": [
            "Assalamualaikum Dunia\n"
          ]
        }
      ]
    },
    {
      "cell_type": "markdown",
      "metadata": {
        "id": "iHVZm9HzE-zl"
      },
      "source": [
        "##**Keyword & Argument!**\n",
        "\n",
        "**Keyword/Parameter** : variable yang digunakan dalam deklarasi fungsi.\n",
        "\n",
        "**Argument** : nilai yang diberikan saat pemanggilan fungsi."
      ]
    },
    {
      "cell_type": "code",
      "metadata": {
        "colab": {
          "base_uri": "https://localhost:8080/"
        },
        "id": "2dIhXcoNHEvI",
        "outputId": "79d45f80-f3b7-4461-8913-20e08723c6d1"
      },
      "source": [
        "# sep = keyword/parameter\n",
        "# '-' = argument\n",
        "\n",
        "print('kata1', 'kata2', sep='/')"
      ],
      "execution_count": null,
      "outputs": [
        {
          "output_type": "stream",
          "name": "stdout",
          "text": [
            "kata1/kata2\n"
          ]
        }
      ]
    },
    {
      "cell_type": "markdown",
      "metadata": {
        "id": "sB1qdUjiI6iN"
      },
      "source": [
        ""
      ]
    },
    {
      "cell_type": "markdown",
      "metadata": {
        "id": "rKMd5y6OJmaS"
      },
      "source": [
        "##**Membuat Fungsi**\n",
        "\n",
        "Python mengizinkan untuk mendeklarasikan fungsi dalam kode yang dituliskan yang dikenal dengan **user defined function.**\n",
        "\n",
        "    def nama_fungsi(argument):    \n",
        "        pernyataan_1\n",
        "        ...\n",
        "        pernyataan_n\n",
        "        return nilai_keluaran\n",
        "\n"
      ]
    },
    {
      "cell_type": "code",
      "metadata": {
        "id": "NBKkkIHHK9-5"
      },
      "source": [
        "# Pendefinisian fungsi_kuadrat\n",
        "def fungsi_kuadrat(x):\n",
        "    hasil = x**2\n",
        "    return hasil"
      ],
      "execution_count": null,
      "outputs": []
    },
    {
      "cell_type": "code",
      "metadata": {
        "id": "GLe59VQwMVJN"
      },
      "source": [
        "# Alternatif pendefinisian fungsi_kuadrat\n",
        "def fungsi_kuadrat(x):\n",
        "    return x**2"
      ],
      "execution_count": null,
      "outputs": []
    },
    {
      "cell_type": "code",
      "metadata": {
        "colab": {
          "base_uri": "https://localhost:8080/"
        },
        "id": "MwK0Dy27Mjgh",
        "outputId": "2b96047b-22c3-4ea9-9241-4ef68c7fc440"
      },
      "source": [
        "# Pemanggilan fungsi_kuadrat\n",
        "fungsi_kuadrat(6)"
      ],
      "execution_count": null,
      "outputs": [
        {
          "output_type": "execute_result",
          "data": {
            "text/plain": [
              "36"
            ]
          },
          "metadata": {},
          "execution_count": 6
        }
      ]
    },
    {
      "cell_type": "markdown",
      "metadata": {
        "id": "1WHX7T7FMipF"
      },
      "source": [
        "##**Positional Argument & Keyword**\n",
        "\n",
        "Kita bisa menyatakan argumen sebagai positional argument atau keyword. Beberapa manfaat argumen kata kunci dapat berupa:\n",
        "\n",
        "\n",
        "*   Kita dapat menyebut argumen dengan nama mereka untuk memperjelas apa yang mereka wakili.\n",
        "*   Kita dapat mengatur ulang argumen dengan cara yang membuatnya paling mudah dibaca.\n",
        "\n"
      ]
    },
    {
      "cell_type": "code",
      "metadata": {
        "id": "pLc0tMUENbht"
      },
      "source": [
        "# Mendefinisikan fungsi dengan beberapa argumen\n",
        "def tampilkan_kata(a,b,c):\n",
        "    print(a,b,c)"
      ],
      "execution_count": null,
      "outputs": []
    },
    {
      "cell_type": "code",
      "metadata": {
        "colab": {
          "base_uri": "https://localhost:8080/"
        },
        "id": "GEVthWyXNyOX",
        "outputId": "f14558d3-82a6-42f9-d494-7844f3e8afb1"
      },
      "source": [
        "# Positional Arguments\n",
        "tampilkan_kata('aku', 'kau', 'dia')"
      ],
      "execution_count": null,
      "outputs": [
        {
          "output_type": "stream",
          "name": "stdout",
          "text": [
            "aku kau dia\n"
          ]
        }
      ]
    },
    {
      "cell_type": "code",
      "metadata": {
        "colab": {
          "base_uri": "https://localhost:8080/"
        },
        "id": "_5xc9fZnOwfw",
        "outputId": "72176b5d-8a37-4590-97c9-44e5fdb929fa"
      },
      "source": [
        "tampilkan_kata('kau', 'aku', 'dia')"
      ],
      "execution_count": null,
      "outputs": [
        {
          "output_type": "stream",
          "name": "stdout",
          "text": [
            "kau aku dia\n"
          ]
        }
      ]
    },
    {
      "cell_type": "code",
      "metadata": {
        "colab": {
          "base_uri": "https://localhost:8080/"
        },
        "id": "EoV25omYO6YZ",
        "outputId": "fc67cf69-2f56-43c1-86ec-a571b1c589ca"
      },
      "source": [
        "# argumen berdasarkan keyword-nya\n",
        "tampilkan_kata(a='aku', b='kau', c='dia')\n",
        "tampilkan_kata(c='dia', b='kau', a='aku')"
      ],
      "execution_count": null,
      "outputs": [
        {
          "output_type": "stream",
          "name": "stdout",
          "text": [
            "aku kau dia\n",
            "aku kau dia\n"
          ]
        }
      ]
    },
    {
      "cell_type": "markdown",
      "metadata": {
        "id": "lXEAmRwVQO1i"
      },
      "source": [
        "Catatan: jika sudah diberi kunci maka urutan tidak menjadi penting"
      ]
    },
    {
      "cell_type": "code",
      "metadata": {
        "colab": {
          "base_uri": "https://localhost:8080/"
        },
        "id": "XDyWWoHfQ-2X",
        "outputId": "a6e3b19f-596a-4f55-bbef-cc825eeb6436"
      },
      "source": [
        "# campuran antara argumen posisi dan argumen kata kunci\n",
        "tampilkan_kata(a='aku', b='kau', c='dia')"
      ],
      "execution_count": null,
      "outputs": [
        {
          "output_type": "stream",
          "name": "stdout",
          "text": [
            "aku kau dia\n"
          ]
        }
      ]
    },
    {
      "cell_type": "markdown",
      "metadata": {
        "id": "CgS-7kftRmBv"
      },
      "source": [
        "**Ini tidak diijinkan:**\n",
        "\n",
        "\n",
        "*   Positional argument setelah keyword argument\n",
        "\n",
        "        tampilkan_kata('aku', b='kau', 'dia')\n",
        "\n",
        "*   Terdapat dua nilai untuk satu keyword argument yang sama\n",
        "\n",
        "        tampilkan_kata(1, b=2, a=3)\n",
        "\n"
      ]
    },
    {
      "cell_type": "markdown",
      "metadata": {
        "id": "b0h3I2zdTgmG"
      },
      "source": [
        "##**Argument Default**\n",
        "\n",
        "Fungsi dapat memiliki argumen default dengan nilai yang telah ditentukan sebelumnya. Argumen ini dapat ditinggalkan dan nilai default kemudian diteruskan ke fungsi, atau argumen dapat dirubah dengan nilai yang berbeda. Perhatikan bahwa argumen default harus ditentukan sebagai **parameter terakhir** dalam suatu fungsi."
      ]
    },
    {
      "cell_type": "code",
      "metadata": {
        "colab": {
          "base_uri": "https://localhost:8080/"
        },
        "id": "jBmf_FRqSqPt",
        "outputId": "2c95bacf-d427-4586-9307-b4673155fda8"
      },
      "source": [
        "#Argument default\n",
        "def tampilkan_kata(a, b, c, d='sahabat'):\n",
        "    print(a, b, c, d)\n",
        "\n",
        "tampilkan_kata('aku', 'kau', 'dia')\n",
        "tampilkan_kata('aku', b='kau', c='dia', d='teman')"
      ],
      "execution_count": null,
      "outputs": [
        {
          "output_type": "stream",
          "name": "stdout",
          "text": [
            "aku kau dia sahabat\n",
            "aku kau dia teman\n"
          ]
        }
      ]
    },
    {
      "cell_type": "markdown",
      "metadata": {
        "id": "Qg6IlMB5aXZS"
      },
      "source": [
        "Catatan: Argumen default harus diletakkan terakhir"
      ]
    },
    {
      "cell_type": "markdown",
      "metadata": {
        "id": "nvh0F2lxaq0W"
      },
      "source": [
        "##**Contoh User Defined Function**\n",
        "\n",
        "**Contoh 1:**\n",
        "\n",
        "Penjumlahan 2 bilangan"
      ]
    },
    {
      "cell_type": "code",
      "metadata": {
        "colab": {
          "base_uri": "https://localhost:8080/"
        },
        "id": "0_V2rpaF63Fo",
        "outputId": "faa3ee0e-cb25-48f3-9900-c74cbe5b0674"
      },
      "source": [
        "def penjumlahan(x, y):   # input\n",
        "    a=x+y                # proses\n",
        "    return a             # output\n",
        "\n",
        "penjumlahan(1, 2)        # pemanggilan fungsi"
      ],
      "execution_count": null,
      "outputs": [
        {
          "output_type": "execute_result",
          "data": {
            "text/plain": [
              "3"
            ]
          },
          "metadata": {},
          "execution_count": 1
        }
      ]
    },
    {
      "cell_type": "markdown",
      "metadata": {
        "id": "skP9yrA273rf"
      },
      "source": [
        "**Contoh 2:**\n",
        "\n",
        "Penjumlahan yang memungkinkan untuk tiga bilangan"
      ]
    },
    {
      "cell_type": "code",
      "metadata": {
        "colab": {
          "base_uri": "https://localhost:8080/"
        },
        "id": "Bo3PFhe-9ChK",
        "outputId": "bd02e0fd-6554-4239-af60-0b948a234bb9"
      },
      "source": [
        "def penjumlahan(x,y,z=None):\n",
        "    if (z==None):\n",
        "        return x+y\n",
        "    else:\n",
        "        return x+y+z\n",
        "print(penjumlahan(1, 2))\n",
        "print(penjumlahan(1, 2, 3))"
      ],
      "execution_count": null,
      "outputs": [
        {
          "output_type": "stream",
          "name": "stdout",
          "text": [
            "3\n",
            "6\n"
          ]
        }
      ]
    },
    {
      "cell_type": "markdown",
      "metadata": {
        "id": "WKpIr3Y19r2c"
      },
      "source": [
        "**Contoh 3:**\n",
        "\n",
        "Menghitung luas dan keliling persegi"
      ]
    },
    {
      "cell_type": "code",
      "metadata": {
        "colab": {
          "base_uri": "https://localhost:8080/"
        },
        "id": "jwQb-Q22-Dgd",
        "outputId": "f03a6a72-d59f-4a7a-cf48-5da0aac7b5df"
      },
      "source": [
        "def luas_dan_keliling_persegi(s):\n",
        "    luas = s**2\n",
        "    keliling = 4*s\n",
        "    return luas, keliling\n",
        "luas, keliling = luas_dan_keliling_persegi(2)\n",
        "print('luas:', luas)\n",
        "print('keliling:', keliling)"
      ],
      "execution_count": null,
      "outputs": [
        {
          "output_type": "stream",
          "name": "stdout",
          "text": [
            "luas: 4\n",
            "keliling: 8\n"
          ]
        }
      ]
    },
    {
      "cell_type": "markdown",
      "metadata": {
        "id": "ztcZrPI--6_G"
      },
      "source": [
        "##**Latihan**\n",
        "\n",
        "1.   Buatlah sebuah fungsi untuk menghitung luas dan keliling lingkaran dengan input jari-jari?\n",
        "\n"
      ]
    },
    {
      "cell_type": "code",
      "metadata": {
        "colab": {
          "base_uri": "https://localhost:8080/"
        },
        "id": "ws3-ZaUtVQOD",
        "outputId": "8348d916-54a8-4792-eb59-1855f9d8238d"
      },
      "source": [
        "def luas(r):\n",
        "    pi = 3.14\n",
        "    luas = pi*r*r\n",
        "    return luas\n",
        "def keliling(r):\n",
        "    pi = 3.14\n",
        "    keliling = 2*pi*r\n",
        "    return keliling\n",
        "l = luas(100)\n",
        "k = keliling(200)\n",
        "print('luas lingkaran:', l)\n",
        "print('keliling lingkaran:', k)"
      ],
      "execution_count": null,
      "outputs": [
        {
          "output_type": "stream",
          "name": "stdout",
          "text": [
            "luas lingkaran: 31400.0\n",
            "keliling lingkaran: 1256.0\n"
          ]
        }
      ]
    },
    {
      "cell_type": "markdown",
      "metadata": {
        "id": "1uYWWL9qnn4i"
      },
      "source": [
        "2. Buatlah sebuah fungsi untuk menggabungkan dua kata dalam bentuk string bebas menjadi satu kata tanpa spasi dengan huruf kecil\n",
        "\n",
        "Contoh:\n",
        "\n",
        "     gabung_kata('TANGKUBAN', 'PeRaHu')\n",
        "\n",
        "Output:\n",
        "\n",
        "    '''python 'tangkubanperahu'"
      ]
    },
    {
      "cell_type": "code",
      "metadata": {
        "colab": {
          "base_uri": "https://localhost:8080/"
        },
        "id": "N07RZpTftjG8",
        "outputId": "d00708b9-2e35-4a8c-e550-74f433522f90"
      },
      "source": [
        "def gabung_kata(a,b):\n",
        "    c=a+b\n",
        "    return c\n",
        "print(gabung_kata('MaTeRi','FuncTION').lower(). lstrip())"
      ],
      "execution_count": null,
      "outputs": [
        {
          "output_type": "stream",
          "name": "stdout",
          "text": [
            "materifunction\n"
          ]
        }
      ]
    }
  ]
}