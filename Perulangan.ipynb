{
  "nbformat": 4,
  "nbformat_minor": 0,
  "metadata": {
    "colab": {
      "name": "Perulangan.ipynb",
      "provenance": [],
      "collapsed_sections": [],
      "include_colab_link": true
    },
    "kernelspec": {
      "name": "python3",
      "display_name": "Python 3"
    },
    "language_info": {
      "name": "python"
    }
  },
  "cells": [
    {
      "cell_type": "markdown",
      "metadata": {
        "id": "view-in-github",
        "colab_type": "text"
      },
      "source": [
        "<a href=\"https://colab.research.google.com/github/SusiWahyuningrum/PSDS-Kelas-Mahir-Pejuang-Data-3.0/blob/main/Perulangan.ipynb\" target=\"_parent\"><img src=\"https://colab.research.google.com/assets/colab-badge.svg\" alt=\"Open In Colab\"/></a>"
      ]
    },
    {
      "cell_type": "markdown",
      "metadata": {
        "id": "OVienVwtMwEc"
      },
      "source": [
        "#**Pembuka**\n",
        "\n",
        "Assalamu'alaikum warahmatullahi wabarakatuh. Puji syukur kehadirat Allah Subhana Wata'ala atas limpahan Rahmat dan HidayahNya kepada kita semua. Sholawat serta salam senantiasa tercurah limpahkan kepada baginda Muhammad Rasulullah Salallahualaihiwassalam.\n",
        "\n",
        "Halo para **Pejuang Data**. Selamat berjumpa di pertemuan kedua Program Training **Algoritma Machine Learning** Kelas Mahir.\n",
        "\n",
        "Pada pertemuan ini kamu akan belajar:\n",
        "\n",
        "*   Looping/Perulangan\n",
        "*   For Loop\n",
        "*   While Loop\n",
        "*   Contoh Perulangan\n",
        "*   Latihan"
      ]
    },
    {
      "cell_type": "markdown",
      "metadata": {
        "id": "CTsZve8LW3NY"
      },
      "source": [
        "##**Looping/Perulangan**\n",
        "\n",
        "Python menyediakan dua statement untuk melakukan proses perulangan yaitu for dan while. Diantara kedua\n",
        "statement ini, secara umum for lebih banyak digunakan daripada while."
      ]
    },
    {
      "cell_type": "markdown",
      "metadata": {
        "id": "a7Ob8UxZNm3j"
      },
      "source": [
        "##**For Loop**\n",
        "\n",
        "Perulangan for digunakan untuk melakukan iterasi di dalam sequence seperti list, tuple, string, dan array atau objek yang dapat diiterasi lainnya."
      ]
    },
    {
      "cell_type": "markdown",
      "metadata": {
        "id": "p6FCC4E0YIFg"
      },
      "source": [
        "####**For Loop Syntax**\n",
        "\n",
        "    for val in sequence:\n",
        "        loop body\n",
        "\n",
        "Pada proses iterasi ini, val adalah variabel yang diambil dari elemen-elemen di dalam sequence untuk setiap iterasi.\n",
        "\n",
        "Perulangan akan berlangsung hingga elemen terakhir dari sequence. Pada bagian body dari for loop diletakkan dalam indentasi."
      ]
    },
    {
      "cell_type": "markdown",
      "metadata": {
        "id": "kRzeQp2XU0n0"
      },
      "source": [
        "###**For Loop Flowchart**\n",
        "\n",
        "![image](https://cdn.programiz.com/sites/tutorial2program/files/forLoop.jpg)"
      ]
    },
    {
      "cell_type": "markdown",
      "metadata": {
        "id": "Vzn2mwt8Y3j_"
      },
      "source": [
        "###**Example: Python for Loop**"
      ]
    },
    {
      "cell_type": "code",
      "metadata": {
        "colab": {
          "base_uri": "https://localhost:8080/"
        },
        "id": "RMK0bmzpLhNE",
        "outputId": "eb144f9f-61e6-4fe3-c43f-9ee09efc84ac"
      },
      "source": [
        "# Program untuk menghitung jumlah semua angka dalam sebuah list\n",
        "\n",
        "# List angka\n",
        "list_angka = [6, 5, 3, 8, 4, 2, 5, 4, 11]\n",
        "\n",
        "# variabel untuk menyimpan hasil penjumlahan\n",
        "jumlahan = 0\n",
        "\n",
        "# iterasi di dalam list\n",
        "for angka in list_angka:\n",
        "    jumlahan = jumlahan+angka\n",
        "\n",
        "print(\"Jumlah :\", jumlahan)"
      ],
      "execution_count": null,
      "outputs": [
        {
          "output_type": "stream",
          "name": "stdout",
          "text": [
            "Jumlah : 48\n"
          ]
        }
      ]
    },
    {
      "cell_type": "markdown",
      "metadata": {
        "id": "aL9P_DDxPu0F"
      },
      "source": [
        "###**The range() function**\n",
        "\n",
        "Kita dapat membuat sebuah sequence angka menggunakan fungsi range() . range(10) akan menghasilkan sequence angka dari 0 sampai 9(10 angka).\n",
        "\n",
        "Kita juga dapat mendefinisikan nilai awal, nilai akhir dan step sizenya yaitu range(start, stp, step_size). Secara default step_size bernilai 1 jika tidak ditentukan secara khusus.\n",
        "\n",
        "Kita dapat menggunakan fungsi range() di dalam perulangan for untuk melakukan iterasi di dalam sequence numbers. Ini dapat kita kombinasikan dengan fungsi len() untuk melakukan iterasi melalui index dari sebuah sequence. Berikut contohnya:"
      ]
    },
    {
      "cell_type": "code",
      "metadata": {
        "colab": {
          "base_uri": "https://localhost:8080/"
        },
        "id": "uq3j4vXoP_WL",
        "outputId": "e9a4789e-1499-43dc-ba52-51ff82921be6"
      },
      "source": [
        "# Program untuk melakukan iterasi di dalam list melalui indeks\n",
        "\n",
        "musik = ['dangdut', 'campursari', 'keroncong']\n",
        "# iterasi di dalam list melalui indeks\n",
        "\n",
        "for i in range(len(musik)):\n",
        "    print(\"Aku suka\", musik[i])"
      ],
      "execution_count": null,
      "outputs": [
        {
          "output_type": "stream",
          "name": "stdout",
          "text": [
            "Aku suka dangdut\n",
            "Aku suka campursari\n",
            "Aku suka keroncong\n"
          ]
        }
      ]
    },
    {
      "cell_type": "markdown",
      "metadata": {
        "id": "xA3_zQyWQHAH"
      },
      "source": [
        "###**for loop with else**\n",
        "\n",
        "Sebuah for loop dapat memiliki opsi blok else. Blok else akan dijalankan jika iterasi telah selesai dilakukan dalam sebuah sequence.\n",
        "\n",
        "Keyword break digunakan untuk menghentikan iterasi. Dalam kasus itu maka bagian else diabaikan.\n",
        "\n",
        "Sehingga, bagian iterasi else hanya dijalankan jika tidak terjadi break.\n",
        "\n",
        "Berikut adalah beberapa contoh sebagai ilustrasi:"
      ]
    },
    {
      "cell_type": "code",
      "metadata": {
        "colab": {
          "base_uri": "https://localhost:8080/"
        },
        "id": "DUwZKCrvZCUy",
        "outputId": "1c3559e4-1abf-47b9-b3a6-e59d46c0e5d7"
      },
      "source": [
        "digits = [0, 1, 5]\n",
        "\n",
        "for i in digits:\n",
        "   print(i)\n",
        "else:\n",
        " print(\"Tidak ada elemen yang tersisa.\")"
      ],
      "execution_count": null,
      "outputs": [
        {
          "output_type": "stream",
          "name": "stdout",
          "text": [
            "0\n",
            "1\n",
            "5\n",
            "Tidak ada elemen yang tersisa.\n"
          ]
        }
      ]
    },
    {
      "cell_type": "markdown",
      "metadata": {
        "id": "b93Zk-lhZR22"
      },
      "source": [
        "Ketika iterasi berjalan maka akan dilakukan print item hingga iterasi selesai. Ketika iterasi pada sequence selesai baru perintah pada blok else dijalankan yaitu print Tidak ada elemen yang tersisa.\n",
        "\n",
        "Statement for...else dapat digunakan bersama dengan keyword break untuk menjalankan blok else hanya ketika break tidak dieksekusi. Lihat contoh berikut:"
      ]
    },
    {
      "cell_type": "code",
      "metadata": {
        "colab": {
          "base_uri": "https://localhost:8080/"
        },
        "id": "SZT9xoDPZiXW",
        "outputId": "598c4d68-6d47-4587-ad82-49d37f01b8c1"
      },
      "source": [
        "# Program untuk menampilkan nilai tugas siswa.\n",
        "nama_siswa = 'Butet'\n",
        "daftar_nilai = {'Bambang': 90, 'Andri': 55, 'Candra': 77}\n",
        "for siswa in daftar_nilai:\n",
        "    if siswa == nama_siswa:\n",
        "       print(daftar_nilai[siswa])\n",
        "       break\n",
        "else:\n",
        "     print('Tidak ada data nilai atas nama', nama_siswa, '!')"
      ],
      "execution_count": null,
      "outputs": [
        {
          "output_type": "stream",
          "name": "stdout",
          "text": [
            "Tidak ada data nilai atas nama Butet !\n"
          ]
        }
      ]
    },
    {
      "cell_type": "markdown",
      "metadata": {
        "id": "GJDZmnmNarNv"
      },
      "source": [
        "##**While Loop**\n",
        "\n",
        "While loop pada Python digunakan untuk melakukan iterasi pada blok kode selama nilai dari test expression adalah true.\n",
        "\n",
        "Looping ini biasanya digunakan ketika kita tidak tau berapa kali iterasi akan dilakukan hingga sebuah kondisi yang diinginkan dapat dicapai.\n"
      ]
    },
    {
      "cell_type": "markdown",
      "metadata": {
        "id": "qlFIf43abGeJ"
      },
      "source": [
        "####**Syntax of while Loop in Python**\n",
        "\n",
        "    while test_expression:\n",
        "        Body of while\n",
        "\n",
        "Pada loop while, test expression justru dicheck pertama kali. Kemudian statement - statement di dalam body of while akan dieksekusi jika nilai dari test expression adalah true. Setelah satu iterasi dijalankan, test expression dicek kembali. Proses ini terus berlanjut hingga nilai evaluasi dari test expression adalah False.\n",
        "\n",
        "Pada Python, bagian body pada loop while dituliskan menggunakan indentasi.\n",
        "\n",
        "Sebagai catatan tambahan bahwa Python menginterpretasikan non-zero values sebagai True. None dan 0 diinterpretasikan sebagai False.\n"
      ]
    },
    {
      "cell_type": "markdown",
      "metadata": {
        "id": "kqe69yvgbk0o"
      },
      "source": [
        "###**While Loop Flowchart**\n",
        "\n",
        "![image](https://cdn.programiz.com/sites/tutorial2program/files/whileLoopFlowchart.jpg)"
      ]
    },
    {
      "cell_type": "markdown",
      "metadata": {
        "id": "IcqilNclcLuz"
      },
      "source": [
        "###**Example: Python while Loop**"
      ]
    },
    {
      "cell_type": "code",
      "metadata": {
        "colab": {
          "base_uri": "https://localhost:8080/"
        },
        "id": "FIwCVSdQcbcL",
        "outputId": "fe19957d-5380-4267-e51f-d4cbbb5f8e3a"
      },
      "source": [
        "# Program untuk menjumlahkan semua \n",
        "# bilangan asli hingga suku ke-n\n",
        "# jumlahan = 1+2+3+...+n\n",
        "n = 10\n",
        "# nilai awal penjumlahan dan iterasi\n",
        "jumlahan = 0\n",
        "i = 1\n",
        "while i <= n:\n",
        "      jumlahan = jumlahan + i\n",
        "      i = i+1 # update iterasi\n",
        "# cetak hasil penjumlahan\n",
        "print(\"jumlahan =\", jumlahan)\n"
      ],
      "execution_count": null,
      "outputs": [
        {
          "output_type": "stream",
          "name": "stdout",
          "text": [
            "jumlahan = 55\n"
          ]
        }
      ]
    },
    {
      "cell_type": "markdown",
      "metadata": {
        "id": "jeVKdIAacld3"
      },
      "source": [
        "Pada program di atas, test expression akan bernilai True selama nilai iterasi i kurang dari atau sama dengan n.\n",
        "\n",
        "Kita perlu mengupdate nilai dari variabel pencatat iterasi i agar iterasi tidak berlangsung secara terus menerus(infinity loop).\n"
      ]
    },
    {
      "cell_type": "markdown",
      "metadata": {
        "id": "rzeMFuVGcvNN"
      },
      "source": [
        "###**While loop with else**\n",
        "\n",
        "Sama dengan for loop kita juga dapat mengkombinasikan while loop dengan blok else.\n",
        "\n",
        "Bagian else akan dieksekusi jika nilai pada test expression pada pada while loop bernilai False.\n",
        "\n",
        "Perhatikan contoh berikut:"
      ]
    },
    {
      "cell_type": "code",
      "metadata": {
        "colab": {
          "base_uri": "https://localhost:8080/"
        },
        "id": "vFKziE_YdPpe",
        "outputId": "4990378e-4297-4e9d-d639-cd2fc5c7ca46"
      },
      "source": [
        "counter = 0\n",
        "while counter < 3:\n",
        "     print(\"Di dalam Loop\")\n",
        "     counter = counter + 1\n",
        "else:\n",
        "     print(\"Di dalam else\")"
      ],
      "execution_count": null,
      "outputs": [
        {
          "output_type": "stream",
          "name": "stdout",
          "text": [
            "Di dalam Loop\n",
            "Di dalam Loop\n",
            "Di dalam Loop\n",
            "Di dalam else\n"
          ]
        }
      ]
    },
    {
      "cell_type": "markdown",
      "metadata": {
        "id": "yvJnJnwodcGb"
      },
      "source": [
        "##**Contoh penggunaan Perulangan**\n",
        "\n",
        "**Contoh 1:**\n",
        "\n",
        "Diberikan list_tagihan . Kamu diminta untuk menghitung jumlah seluruh tagihan!. Gunakan looping for untuk menyelesaikan tugas ini! Simpan hasilnya pada variabel total_tagihan !\n",
        "\n",
        "    list_tagihan = [50000, 75000, -150000, 125000, 300000, -50000, 200000]\n"
      ]
    },
    {
      "cell_type": "code",
      "metadata": {
        "colab": {
          "base_uri": "https://localhost:8080/"
        },
        "id": "5k1uWCD1duRo",
        "outputId": "e72cd3c8-1134-4031-9068-3a8e65067750"
      },
      "source": [
        "list_tagihan = [50000, 75000, -150000, 125000, 300000, -50000, 200000]\n",
        "total_tagihan = 0\n",
        "for tagihan in list_tagihan: # untuk setiap tagihan dalam list_tagihan\n",
        "    total_tagihan += tagihan # tambahkan tagihan ke total_tagihan\n",
        "print(total_tagihan)"
      ],
      "execution_count": null,
      "outputs": [
        {
          "output_type": "stream",
          "name": "stdout",
          "text": [
            "550000\n"
          ]
        }
      ]
    },
    {
      "cell_type": "markdown",
      "metadata": {
        "id": "v5f9DjARdzS1"
      },
      "source": [
        "**Contoh 2:**\n",
        "\n",
        "Diberikan list_tagihan . Kamu diminta untuk menghitung jumlah seluruh tagihan!. Gunakan looping for untuk menyelesaikan tugas ini! Simpan hasilnya pada variabel total_tagihan !\n",
        "\n",
        "    list_tagihan = [50000, 75000, -150000, 125000, 300000, -50000, 200000]\n",
        "\n",
        "Perhatikan bahwa, terdapat nilai tagihan yang negatif. Hentikan perhitungan total_tagihan jika menemukan nilai negatif!"
      ]
    },
    {
      "cell_type": "code",
      "metadata": {
        "colab": {
          "base_uri": "https://localhost:8080/"
        },
        "id": "vsYJ3FJHeAes",
        "outputId": "2ca5db03-d0a0-4ec3-b1ad-ef968d103d51"
      },
      "source": [
        "list_tagihan = [50000, 75000, -150000, 125000, 300000, -50000, 200000]\n",
        "total_tagihan = 0\n",
        "for tagihan in list_tagihan:\n",
        "    if tagihan < 0:\n",
        "        print(\"terdapat angka minus dalam tagihan, perhitungan dihentikan!\")\n",
        "        break\n",
        "    total_tagihan += tagihan\n",
        "print(total_tagihan)"
      ],
      "execution_count": null,
      "outputs": [
        {
          "output_type": "stream",
          "name": "stdout",
          "text": [
            "terdapat angka minus dalam tagihan, perhitungan dihentikan!\n",
            "125000\n"
          ]
        }
      ]
    },
    {
      "cell_type": "markdown",
      "metadata": {
        "id": "xi4y58huebcp"
      },
      "source": [
        "**Contoh 3:**\n",
        "\n",
        "Diberikan list_cash_flow kamu diminta untuk melakukan penghitungan total_pemasukan dan total_pengeluaran menggunakan looping for. Untuk nilai positif berarti adalah pemasukan dan nilai negatif berarti adalah pengeluaran.\n",
        "\n",
        "    list_cash_flow = [2500000, 5000000, -1000000, -2500000, 5000000, 10000000, -5000000, 7500000, 10000000, -1500000, 25000000, -2500000]"
      ]
    },
    {
      "cell_type": "code",
      "metadata": {
        "colab": {
          "base_uri": "https://localhost:8080/"
        },
        "id": "K8A4VuKufSV5",
        "outputId": "03d3078a-595c-4313-9bbc-7e7bdca7874a"
      },
      "source": [
        "list_cash_flow = [\n",
        "2500000, 5000000, -1000000, -2500000, 5000000, 10000000,\n",
        "-5000000, 7500000, 10000000, -1500000, 25000000, -2500000\n",
        "]\n",
        "total_pengeluaran, total_pemasukan = 0, 0\n",
        "for dana in list_cash_flow:\n",
        "    if dana > 0:\n",
        "        total_pemasukan += dana\n",
        "    else:\n",
        "        total_pengeluaran += dana\n",
        "total_pengeluaran *= -1\n",
        "print(total_pengeluaran) \n",
        "print(total_pemasukan)"
      ],
      "execution_count": null,
      "outputs": [
        {
          "output_type": "stream",
          "name": "stdout",
          "text": [
            "12500000\n",
            "65000000\n"
          ]
        }
      ]
    },
    {
      "cell_type": "markdown",
      "metadata": {
        "id": "jmn7yYcOfpuL"
      },
      "source": [
        "##**Latihan**\n",
        "\n",
        "1. Buatlah fungsi untuk menghitung diskon suatu pembayaran belanjaan dengan input berupa dictionary untuk daftar harga dan dictionary untuk daftar belanjaan!\n",
        "\n",
        "Contoh:\n",
        "\n",
        "    daftar_harga = {'telur/kg':20000, 'gula_pasir/kg':16000, 'teh/bks':4000}\n",
        "    daftar_belanjaan = {'telur':2, 'gula_pasir':5}\n",
        "\n",
        "    jumlah_bayar = pembayaran(daftar_harga, daftar_belanjaan)\n",
        "\n",
        "Output\n",
        "\n",
        "    120000"
      ]
    },
    {
      "cell_type": "code",
      "metadata": {
        "colab": {
          "base_uri": "https://localhost:8080/"
        },
        "id": "s6YMSG7UdO2w",
        "outputId": "12f73c1b-db2e-4e5b-99d1-f4520c6a7851"
      },
      "source": [
        "daftar_harga = {'telur' : 22.000, 'gula_pasir' : 12000, 'teh' : 3000}\n",
        "daftar_belanjaan = {'telur' : 6, 'gula_pasir' : 10, 'teh' : 5}\n",
        "\n",
        "def pembayaran(daftar_harga, daftar_belanjaan):\n",
        "\n",
        "  jumlah = 0\n",
        "  for barang in daftar_harga:\n",
        "    for beli in daftar_belanjaan:\n",
        "      if barang == beli:\n",
        "        jumlah += daftar_harga[beli]*daftar_belanjaan[beli]\n",
        "  disc = jumlah-jumlah*0.2\n",
        "  return disc\n",
        "\n",
        "jumlah_bayar = pembayaran(daftar_harga, daftar_belanjaan)\n",
        "print(jumlah_bayar)"
      ],
      "execution_count": null,
      "outputs": [
        {
          "output_type": "stream",
          "name": "stdout",
          "text": [
            "108105.6\n"
          ]
        }
      ]
    }
  ]
}