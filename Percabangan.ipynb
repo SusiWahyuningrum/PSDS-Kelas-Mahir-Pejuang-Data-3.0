{
  "nbformat": 4,
  "nbformat_minor": 0,
  "metadata": {
    "colab": {
      "name": "Percabangan.ipynb",
      "provenance": [],
      "collapsed_sections": [],
      "include_colab_link": true
    },
    "kernelspec": {
      "name": "python3",
      "display_name": "Python 3"
    },
    "language_info": {
      "name": "python"
    }
  },
  "cells": [
    {
      "cell_type": "markdown",
      "metadata": {
        "id": "view-in-github",
        "colab_type": "text"
      },
      "source": [
        "<a href=\"https://colab.research.google.com/github/SusiWahyuningrum/PSDS-Kelas-Mahir-Pejuang-Data-3.0/blob/main/Percabangan.ipynb\" target=\"_parent\"><img src=\"https://colab.research.google.com/assets/colab-badge.svg\" alt=\"Open In Colab\"/></a>"
      ]
    },
    {
      "cell_type": "markdown",
      "metadata": {
        "id": "bmG4J3M0TtKU"
      },
      "source": [
        "##**Pembukaan**"
      ]
    },
    {
      "cell_type": "markdown",
      "metadata": {
        "id": "zULptBHuVJKX"
      },
      "source": [
        "######Assalamu'alaikum warahmatullahi wabarakatuh. Puji syukur kehadirat Allah Subhana Wata'ala atas limpahan Rahmat dan HidayahNya kepada kita semua. Sholawat serta salam senantiasa tercurah limpahkan kepada baginda Muhammad Rasulullah Salallahualaihiwassalam.\n",
        "\n",
        "Halo para **Pejuang Data**. Selamat berjumpa di pertemuan kedua Program Training **Algoritma Machine\n",
        "Learning** Kelas Mahir."
      ]
    },
    {
      "cell_type": "markdown",
      "metadata": {
        "id": "QYYtXjt4WApP"
      },
      "source": [
        "####Pada pertemuan ini kamu akan belajar:\n",
        "\n",
        "\n",
        "\n",
        "\n",
        "*   Percabangan/ Struktur Pemilihan\n",
        "*   IF Statements\n",
        "*   IF ELSE Statements\n",
        "*   F ELIF ELSE Statements\n",
        "*   Python Nested IF Statements\n",
        "*   Latihan\n",
        "\n",
        "\n",
        "\n",
        "\n",
        "\n"
      ]
    },
    {
      "cell_type": "markdown",
      "metadata": {
        "id": "QtTOXLV9XmCw"
      },
      "source": [
        "##**Percabangan/ Struktur Pemilihan**"
      ]
    },
    {
      "cell_type": "markdown",
      "metadata": {
        "id": "yy5DdwREXu08"
      },
      "source": [
        "####Pada bagian ini, kamu akan membuat keputusan pada bahasa pemrograman Python menggunakan struktur percabangan atau juga sering disebut IF ELSE Statement. Pengambilan keputusan dibutuhkan ketika kamu akan mengeksekusi suatu kode jika sebuah kondisi tertentu dipenuhi.\n",
        "\n",
        "Statement if .. elif ... else digunakan pada bahasa Python untuk pengambilan keputusan"
      ]
    },
    {
      "cell_type": "markdown",
      "metadata": {
        "id": "PE-uFi-HX_-s"
      },
      "source": [
        "##**IF Statements**"
      ]
    },
    {
      "cell_type": "markdown",
      "metadata": {
        "id": "Nk-zZ91hYD1t"
      },
      "source": [
        "####**Python IF Statement Syntax**\n",
        "      if test expression:\n",
        "         statement(s)"
      ]
    },
    {
      "cell_type": "markdown",
      "metadata": {
        "id": "tEp3HumHY-DV"
      },
      "source": [
        "Program akan mengevaluasi nilai dari test expression yang diberikan kemudian akan mengeksekusi\n",
        "statement(s) hanya jika test expression bernilai True .\n",
        "\n",
        "Jika test expression bernilai False , maka statement(s) tidak dieksekusi.\n",
        "\n",
        "Seperti telah disampaikan pada pertemuan sebelumnya bahwa bagian body dari statement if diindikasikan\n",
        "dengan indentasi. Statement-statement yang akan dijalankan jika test expression bernilai True ditulis\n",
        "pada baris selanjutnya dan menjorok ke dalam.\n",
        "\n",
        "Sebagai catatan tambahan bahwa Python menginterpretasikan non-zero values sebagai True . None\n",
        "dan 0 diinterpretasikan sebagai False ."
      ]
    },
    {
      "cell_type": "markdown",
      "metadata": {
        "id": "3eEOl8RrZbQV"
      },
      "source": [
        "####**Python IF Statement Flowchart**\n",
        "\n",
        "---\n",
        "\n"
      ]
    },
    {
      "cell_type": "markdown",
      "metadata": {
        "id": "OS6cj3t_aWEi"
      },
      "source": [
        "![image](https://cdn.programiz.com/sites/tutorial2program/files/Python_if_statement.jpg)"
      ]
    },
    {
      "cell_type": "markdown",
      "metadata": {
        "id": "dvtjCKFMb0Uk"
      },
      "source": [
        "**Example: Python IF Statement**"
      ]
    },
    {
      "cell_type": "code",
      "metadata": {
        "id": "bspbYHOzcJ3d",
        "colab": {
          "base_uri": "https://localhost:8080/"
        },
        "outputId": "544bec21-62db-4234-99c5-9391b546e9d9"
      },
      "source": [
        "# Jika angka adalah bilangan positif maka print \"adalah bilangan positif\"\n",
        "\n",
        "angka = 3\n",
        "if angka > 0:\n",
        "    print(angka, \"adalah bilangan positif.\")\n",
        "print(\"Pernyataan ini selalu ditampilkan.\")\n",
        "  \n",
        "angka = -1\n",
        "if angka > 0:\n",
        "    print(angka, \"adalah bilangan positif.\")\n",
        "print(\"Pernyataan ini juga selalu ditampilkan.\")"
      ],
      "execution_count": null,
      "outputs": [
        {
          "output_type": "stream",
          "name": "stdout",
          "text": [
            "3 adalah bilangan positif.\n",
            "Pernyataan ini selalu ditampilkan.\n",
            "Pernyataan ini juga selalu ditampilkan.\n"
          ]
        }
      ]
    },
    {
      "cell_type": "markdown",
      "metadata": {
        "id": "Go3lDkzjcr1J"
      },
      "source": [
        "3 adalah bilangan positif.\n",
        "Pernyataan ini selalu ditampilkan.\n",
        "Pernyataan ini juga selalu ditampilkan.\n",
        "\n",
        "Pada contoh di atas, angka > 0 adalah test expression . Bagian body dari if dieksekusi hanya jika hasil\n",
        "evaluasi dari test expression adalah bernilai True.\n",
        "\n",
        "Ketika variabel angka bernilai 3, test expression bernilai True sehingga statement di dalam bagian\n",
        "body dari if akan dieksekusi. Sedangkan ketika variabel angka bernilai -1, test expression bernilai\n",
        "False sehingga statement di dalam bagian body dari if tidak dieksekusi(di skip).\n",
        "\n",
        "Statement print() di luar blok if (yang tidak terindentasi) akan selalu dieksekusi."
      ]
    },
    {
      "cell_type": "markdown",
      "metadata": {
        "id": "U7D7XgwTdQYQ"
      },
      "source": [
        "####**IF ELSE Statements**"
      ]
    },
    {
      "cell_type": "markdown",
      "metadata": {
        "id": "cOf-_wMMdZi1"
      },
      "source": [
        "**Python IF ELSE Statement Syntax**\n",
        "\n",
        "     if test expression:\n",
        "        Body of if\n",
        "     else :\n",
        "          Body of else"
      ]
    },
    {
      "cell_type": "markdown",
      "metadata": {
        "id": "3Ki_efSNePTH"
      },
      "source": [
        "Statement if ... else mengevaluasi test expression dan akan mengeksekusi bagian body of if\n",
        "hanya jika test expression bernilai True .\n",
        "\n",
        "Jika test expression bernilai False , maka bagian body of else akan dieksekusi. Indentasi juga\n",
        "digunakan pada bagian ini."
      ]
    },
    {
      "cell_type": "markdown",
      "metadata": {
        "id": "WIZt5-KFeWm3"
      },
      "source": [
        "####**Python IF ELSE Statement Flowchart**"
      ]
    },
    {
      "cell_type": "markdown",
      "metadata": {
        "id": "7IRBb1RBehcJ"
      },
      "source": [
        "![image](https://cdn.programiz.com/sites/tutorial2program/files/Python_if_else_statement.jpg)"
      ]
    },
    {
      "cell_type": "markdown",
      "metadata": {
        "id": "JKIsfUjsfDWK"
      },
      "source": [
        "**Example: Python IF ELSE Statement**"
      ]
    },
    {
      "cell_type": "code",
      "metadata": {
        "colab": {
          "base_uri": "https://localhost:8080/"
        },
        "id": "TwwaXMwLfTMJ",
        "outputId": "c67dfaa8-63c7-4567-b239-59d382e9f422"
      },
      "source": [
        "# Program disusun untuk mengecek apakah angka merupakan bilangan positif atau negatif\n",
        "# dan menampilkan tulisan yang sesuai\n",
        "\n",
        "angka = 3\n",
        "\n",
        "# Kamu bisa mencoba angka-angka lainnya berikut:\n",
        "# angka = -5\n",
        "# angka = 0\n",
        "\n",
        "if angka >= 0:\n",
        "    print(\"Bilangan Positif atau Nol\")\n",
        "else:\n",
        "    print(\"Bilangan Negatif\")"
      ],
      "execution_count": null,
      "outputs": [
        {
          "output_type": "stream",
          "name": "stdout",
          "text": [
            "Bilangan Positif atau Nol\n"
          ]
        }
      ]
    },
    {
      "cell_type": "markdown",
      "metadata": {
        "id": "Or6OB99gfP75"
      },
      "source": [
        "\n",
        "Pada contoh di atas, ketika angka sama dengan 3, test expression bernilai True dan bagian body\n",
        "dari if dieksekusi sedangkan bagian body dari else diabaikan.\n",
        "\n",
        "Ketika angka sama dengan -5, test expression bernilai False dan bagian body dari if diabaikan\n",
        "sedangkan bagian body dari else dieksekusi.\n",
        "\n",
        "Jika angka sama dengan 0, test expression bernilai True dan bagian body dari if dieksekusi\n",
        "sedangkan bagian body dari else diabaikan."
      ]
    },
    {
      "cell_type": "code",
      "metadata": {
        "colab": {
          "base_uri": "https://localhost:8080/"
        },
        "id": "6vHkEbmxfqwD",
        "outputId": "312029e2-3794-4053-8ff5-15a35439ab67"
      },
      "source": [
        "#Program disusun untuk mengecek apakah dua buah angka sama atau tidak\n",
        "# dan menampilkan tulisan yang sesuai\n",
        "\n",
        "a = 5\n",
        "b = 5\n",
        "\n",
        "if a==b:\n",
        "  print(\"a dan b bernilai sama\")\n",
        "else:\n",
        "  print(\"a dan b bernilai berbeda\")\n",
        "  print(\"Halo\")"
      ],
      "execution_count": null,
      "outputs": [
        {
          "output_type": "stream",
          "name": "stdout",
          "text": [
            "a dan b bernilai sama\n"
          ]
        }
      ]
    },
    {
      "cell_type": "code",
      "metadata": {
        "colab": {
          "base_uri": "https://localhost:8080/"
        },
        "id": "VI75Q5Qqf-9N",
        "outputId": "442bd693-859a-4d24-8b2c-9b990453ca8a"
      },
      "source": [
        "# Program disusun untuk mengecek apakah perbandingan dua buah angka\n",
        "# dan menampilkan tulisan yang sesuai\n",
        "\n",
        "# membaca dua angka\n",
        "bilangan1 = int(input(\"Masukkan bilangan pertama: \"))\n",
        "bilangan2 = int(input(\"Masukkan bilangan kedua: \"))\n",
        "\n",
        "# memilih bilangan yang lebih besar\n",
        "if bilangan1 > bilangan2:\n",
        "  bilangan_lebih_besar = bilangan1\n",
        "else:\n",
        "  bilangan_lebih_besar = bilangan2\n",
        "# menampilkan hasil\n",
        "print(\"Bilangan yang lebih besar adalah:\", bilangan_lebih_besar)"
      ],
      "execution_count": null,
      "outputs": [
        {
          "output_type": "stream",
          "name": "stdout",
          "text": [
            "Masukkan bilangan pertama: 100\n",
            "Masukkan bilangan kedua: 20\n",
            "Bilangan yang lebih besar adalah: 100\n"
          ]
        }
      ]
    },
    {
      "cell_type": "markdown",
      "metadata": {
        "id": "JTHaTsQ7gbbG"
      },
      "source": [
        "####**IF ELIF ELSE Statements**"
      ]
    },
    {
      "cell_type": "markdown",
      "metadata": {
        "id": "qFygcmNlggP_"
      },
      "source": [
        "**Python IF ELIF ELSE Statement Syntax**\n",
        "\n",
        "     if test expression:\n",
        "        Body of if\n",
        "     elif test expression:\n",
        "        Body of elif\n",
        "     else :\n",
        "        Body of else\n",
        "elif adalah kependekan dari else if. Perintah ini bertugas untuk mengecek beberapa test expression .\n",
        "\n",
        "Jika kondisi untuk statement if bernilai False , maka akan mengecek ke kondisi elif selanjutnya dan\n",
        "begitu seterusnya. Jika semua kondisi pada statement if dan elif bernilai False maka, bagian body\n",
        "dari else akan dieksekusi.\n",
        "\n",
        "Hanya satu blok di antara if , elif , dan else yangakan dieksekusi berdasarkan kondisi yang sesuai.\n",
        "\n",
        "Pada sebuah if blok hanya diijinkan sebuah else blok namun dapat memiliki beberapa blok elif .\n"
      ]
    },
    {
      "cell_type": "markdown",
      "metadata": {
        "id": "NpYGbtfSg8I9"
      },
      "source": [
        "**Python IF ELIF ELSE Statement Flow Chart**"
      ]
    },
    {
      "cell_type": "markdown",
      "metadata": {
        "id": "O6hK6MBThChp"
      },
      "source": [
        "![image](https://cdn.programiz.com/sites/tutorial2program/files/Python_if_elif_else_statement.jpg)"
      ]
    },
    {
      "cell_type": "markdown",
      "metadata": {
        "id": "wjXbbitbhv4K"
      },
      "source": [
        "**Example: Python IF ELIF ELSE Statement**"
      ]
    },
    {
      "cell_type": "code",
      "metadata": {
        "colab": {
          "base_uri": "https://localhost:8080/"
        },
        "id": "8NGz8RI6h_Bo",
        "outputId": "39c4f1da-ad8d-469c-80fe-9040b5264499"
      },
      "source": [
        "# Program disusun untuk mengecek apakah angka merupakan bilangan positif, negatif atau nol\n",
        "# dan menampilkan tulisan yang sesuai\n",
        "\n",
        "angka = 3.4\n",
        "\n",
        "# Kamu bisa mencoba angka-angka lainnya berikut:\n",
        "# angka = 0\n",
        "# angka = -4.5\n",
        "\n",
        "if angka > 0: \n",
        "  print(\"Bilangan Positif\")\n",
        "elif num == 0:\n",
        "  print(\"Nol\")\n",
        "else:\n",
        "  print(\"Bilangan Negatif\")"
      ],
      "execution_count": null,
      "outputs": [
        {
          "output_type": "stream",
          "name": "stdout",
          "text": [
            "Bilangan Positif\n"
          ]
        }
      ]
    },
    {
      "cell_type": "markdown",
      "metadata": {
        "id": "eFtxxx_wiNV7"
      },
      "source": [
        "Ketika variabel angka bernilai positif , maka Bilangan Positif ditampilkan.\n",
        "\n",
        "Jika angka sama dengan 0, maka Nol ditampilkan.\n",
        "\n",
        "Jika angka bernilai negatif , maka Bilangan Negatif ditampilkan."
      ]
    },
    {
      "cell_type": "code",
      "metadata": {
        "colab": {
          "base_uri": "https://localhost:8080/"
        },
        "id": "YqcGqMSpiTWH",
        "outputId": "7f40faa9-d8bf-4a49-fa3d-ab2f68aa436f"
      },
      "source": [
        "# Statement if\n",
        "x = 4\n",
        "if x % 2 == 0: # jika sisa bagi x dengan 2 sama dengan 0\n",
        "    print(\"x habis dibagi dua\") # statemen aksi lebih menjorok ke dalam\n",
        "\n",
        "# Statement if ... elif ... else\n",
        "x = 7\n",
        "if x % 2 == 0: # jika sisa bagi x dengan 2 sama dengan 0\n",
        "    print(\"x habis dibagi dua\")\n",
        "elif x % 3 ==0: # jika sisa bagi x dengan 3 sama dengan 0\n",
        "    print(\"x habis dibagi tiga\")\n",
        "elif x % 5 ==0: # jika sisa bagi x dengan 5 sama dengan 0\n",
        "    print(\"x habis dibagi lima\")\n",
        "else:\n",
        "    print(\"x tidak habis dibagi dua, tiga ataupun lima\")"
      ],
      "execution_count": null,
      "outputs": [
        {
          "output_type": "stream",
          "name": "stdout",
          "text": [
            "x habis dibagi dua\n",
            "x tidak habis dibagi dua, tiga ataupun lima\n"
          ]
        }
      ]
    },
    {
      "cell_type": "markdown",
      "metadata": {
        "id": "q7tMySMBingo"
      },
      "source": [
        "####**Python Nested IF Statements**"
      ]
    },
    {
      "cell_type": "markdown",
      "metadata": {
        "id": "tmC0vXMoiyF2"
      },
      "source": [
        "Kita dapat membuat statement if...elif...else di dalam statement if...elif...else lainnya. Ini\n",
        "disebut sebagai nesting dalam computer programming .\n",
        "\n",
        "Sejumlah pernyataan ini dapat bersarang( nesting ) di dalam satu sama lain. Indentasi adalah satu-satunya\n",
        "cara untuk mengetahui tingkat bersarang. Mereka bisa membingungkan, jadi mereka harus dihindari kecuali\n",
        "jika perlu."
      ]
    },
    {
      "cell_type": "markdown",
      "metadata": {
        "id": "UHuJrmPRi4Bo"
      },
      "source": [
        "**Example: Python NESTED IF Statement**"
      ]
    },
    {
      "cell_type": "code",
      "metadata": {
        "colab": {
          "base_uri": "https://localhost:8080/"
        },
        "id": "Rbo4M_MRi9qK",
        "outputId": "8d4e4c2c-d02d-46f1-8a3c-c27c70f7e7f4"
      },
      "source": [
        "# Program disusun untuk mengecek apakah angka merupakan bilangan positif, negatif atau nol\n",
        "# dan menampilkan tulisan yang sesuai\n",
        "\n",
        "angka = float(input(\"Masukkan angka: \"))\n",
        "if angka >= 0:\n",
        "    if angka == 0:\n",
        "        print(\"Nol\")\n",
        "    else:\n",
        "        print(\"Bilangan Positif\")\n",
        "else:\n",
        "   print(\"Bilangan Negatif\")"
      ],
      "execution_count": null,
      "outputs": [
        {
          "output_type": "stream",
          "name": "stdout",
          "text": [
            "Masukkan angka: 1\n",
            "Bilangan Positif\n"
          ]
        }
      ]
    },
    {
      "cell_type": "markdown",
      "metadata": {
        "id": "zhWE-kJOjRmi"
      },
      "source": [
        "**Latihan**\n",
        "\n",
        "\n",
        "1.   Buatlah sebuah fungsi \"Mahal_Diskon\" dengan ketentuan:\n",
        "    \n",
        "      A.  Input berupa data harga produk dengan tipe data numerik Tunggal\n",
        "\n",
        "      B. Kategori Input adalah \"Murah\" dan \"Mahal\", kemudian diskon ada 3 kategori \"10 %\", \"20 %\", dan\n",
        "\"\"40%\"\n",
        "\n",
        "      C. Output Pertama sebuah teks/string yang menyatakan \"Mahal\" atau \"Murah\" dan Keterangan \"Kamu\n",
        "Dapat Diskon ...\"\n",
        "\n",
        "      D. Output Kedua adalah harga yang perlu dibayarkan\n"
      ]
    },
    {
      "cell_type": "code",
      "metadata": {
        "id": "wiJtrR20kJ6x",
        "colab": {
          "base_uri": "https://localhost:8080/"
        },
        "outputId": "5005947f-e4f9-4953-c1e1-71f54bfad30d"
      },
      "source": [
        "x = float(input('Harga Produk: Rp. '))\n",
        "\n",
        "if (x>500000):\n",
        "  print(\"MAHAL\")\n",
        "else:\n",
        "  print(\"MURAH\")\n",
        "\n",
        "if (x>0 and x<200000):\n",
        "  print(\" SELAMAT KAMU DAPAT DISKON 10%\")\n",
        "  diskon=0.1*x\n",
        "  bayar=x-diskon\n",
        "  print(\"Harga yang dibayarkan Rp.\", bayar)\n",
        "elif (x>= 200000 and x<1000000):\n",
        "  print(\"SELAMAT KAMU DAPAT DISKON 20%\")\n",
        "  diskon=0.2*x\n",
        "  bayar=x-diskon\n",
        "  print(\"Harga yang dibayarkan Rp.\", bayar)\n",
        "  \n",
        "else:\n",
        "  print(\"SELAMAT KAMU DAPAT DISKON 40%\")\n",
        "  diskon=0.4*x\n",
        "  bayar=x-diskon\n",
        "  print(\"Harga yang dibayarkan Rp.\", bayar)"
      ],
      "execution_count": null,
      "outputs": [
        {
          "output_type": "stream",
          "name": "stdout",
          "text": [
            "Harga Produk: Rp. 2\n",
            "MURAH\n",
            " SELAMAT KAMU DAPAT DISKON 10%\n",
            "Harga yang dibayarkan Rp. 1.8\n"
          ]
        }
      ]
    },
    {
      "cell_type": "markdown",
      "metadata": {
        "id": "0usU3-1WkSgA"
      },
      "source": [
        "2.   Diberi sebuah string, tulislah sebuah fungsi python untuk memeriksa apakah string tersebut merupakan\n",
        "palindrom atau bukan. Sebuah string dikatakan palindrom jika susunan terbalik dari string tersebut sama\n",
        "dengan string pada susunan awalnya. Misalnya, \"radar\" adalah palindrom, tetapi \"radix\" bukanlah\n",
        "palindrom."
      ]
    },
    {
      "cell_type": "code",
      "metadata": {
        "id": "Uey4lagckY5L",
        "colab": {
          "base_uri": "https://localhost:8080/"
        },
        "outputId": "26f72471-dde0-427d-f185-f1b5ff9fcf08"
      },
      "source": [
        "y = input(\"Kata: \")\n",
        "z = len(y)\n",
        "kondisi = True\n",
        "\n",
        "for i in range (0, z):\n",
        "  if (kondisi):\n",
        "    b = z-(i+1)\n",
        "\n",
        "    if y[i] is y[b]:\n",
        "      kondisi = True\n",
        "    else:\n",
        "      kondisi = False\n",
        "      \n",
        "if (kondisi):\n",
        "  print('Palindrom')\n",
        "else:\n",
        "  print('BUKAN Palindrom')"
      ],
      "execution_count": null,
      "outputs": [
        {
          "output_type": "stream",
          "name": "stdout",
          "text": [
            "Kata: 3\n",
            "Palindrom\n"
          ]
        }
      ]
    },
    {
      "cell_type": "markdown",
      "metadata": {
        "id": "lx29G6sskZac"
      },
      "source": [
        "3. Buatlah fungsi untuk menghitung diskon suatu pembayaran belanjaan dengan input berupa dictionary\n",
        "untuk daftar harga dan dictionary untuk daftar belanjaan!"
      ]
    },
    {
      "cell_type": "markdown",
      "metadata": {
        "id": "yk12dB57kg82"
      },
      "source": [
        "Contoh:\n",
        "\n",
        "     daftar_harga = {'telur/kg':20000, 'gula_pasir/kg':16000, 'teh/bks':4000}\n",
        "     daftar_belanjaan = {'telur':2, 'gula_pasir':5}\n",
        "\n",
        "     jumlah_bayar = pembayaran(daftar_harga, daftar_belanjaan)\n",
        "\n",
        "Output\n",
        "\n",
        "    120000"
      ]
    },
    {
      "cell_type": "code",
      "metadata": {
        "id": "lFLN3dlIkdXV",
        "colab": {
          "base_uri": "https://localhost:8080/"
        },
        "outputId": "e97afda0-f643-4469-da74-18dd46c4ac50"
      },
      "source": [
        "daftar_harga = {'telur' : 17.500, 'gula_pasir' : 15000, 'teh' : 5000}\n",
        "daftar_belanjaan = {'telur' : 3, 'gula_pasir' : 3, 'teh' : 5}\n",
        "\n",
        "def pembayaran(daftar_harga, daftar_belanjaan):\n",
        "\n",
        "  jumlah = 0\n",
        "  for barang in daftar_harga:\n",
        "    for beli in daftar_belanjaan:\n",
        "      if barang == beli:\n",
        "        jumlah += daftar_harga[beli]*daftar_belanjaan[beli]\n",
        "  disc = jumlah-jumlah*0.2\n",
        "  return disc\n",
        "\n",
        "jumlah_bayar = pembayaran(daftar_harga, daftar_belanjaan)\n",
        "print(jumlah_bayar)"
      ],
      "execution_count": null,
      "outputs": [
        {
          "output_type": "stream",
          "name": "stdout",
          "text": [
            "56042.0\n"
          ]
        }
      ]
    }
  ]
}